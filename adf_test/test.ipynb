{
 "cells": [
  {
   "cell_type": "code",
   "execution_count": 20,
   "id": "9d9c313d-8bd4-4b26-86c2-6be1a1b3f042",
   "metadata": {},
   "outputs": [],
   "source": [
    "from pandas import read_csv\n",
    "import matplotlib.pyplot as plt\n",
    "# pip install statsmodels\n",
    "from statsmodels.tsa.stattools import adfuller\n",
    "\n",
    "series15 = read_csv('DEC15.csv', header=0, index_col=0)\n",
    "series16 = read_csv('DEC16.csv', header=0, index_col=0)\n",
    "\n",
    "X15 = series15.values\n",
    "X16 = series16.values\n",
    "\n",
    "dec15 = adfuller(X15)\n",
    "dec16 = adfuller(X16)"
   ]
  },
  {
   "cell_type": "code",
   "execution_count": 21,
   "id": "a9b8568e-d6b3-4129-af22-ec5b13fd21af",
   "metadata": {},
   "outputs": [],
   "source": [
    "\n"
   ]
  },
  {
   "cell_type": "code",
   "execution_count": null,
   "id": "dab0c478-ce57-44b6-b84a-28233591c208",
   "metadata": {},
   "outputs": [],
   "source": []
  },
  {
   "cell_type": "code",
   "execution_count": null,
   "id": "1d98e02a-864c-4992-bd2b-b4191f503fbc",
   "metadata": {},
   "outputs": [],
   "source": []
  }
 ],
 "metadata": {
  "kernelspec": {
   "display_name": "Python 3 (ipykernel)",
   "language": "python",
   "name": "python3"
  },
  "language_info": {
   "codemirror_mode": {
    "name": "ipython",
    "version": 3
   },
   "file_extension": ".py",
   "mimetype": "text/x-python",
   "name": "python",
   "nbconvert_exporter": "python",
   "pygments_lexer": "ipython3",
   "version": "3.9.6"
  }
 },
 "nbformat": 4,
 "nbformat_minor": 5
}
