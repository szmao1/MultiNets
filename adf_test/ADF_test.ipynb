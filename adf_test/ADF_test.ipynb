{
 "cells": [
  {
   "cell_type": "code",
   "execution_count": null,
   "id": "89978c8a-8561-4ae1-b94d-8810a44b65f4",
   "metadata": {},
   "outputs": [],
   "source": [
    "import pandas as pd\n",
    "from statsmodels.tsa.stattools import adfuller\n",
    "import matplotlib.pyplot as plt\n",
    "\n",
    "def load_data(file_path, column_name):\n",
    "    data = pd.read_csv(file_path)\n",
    "    return data[column_name]\n",
    "\n",
    "def perform_adf_test(time_series, label):\n",
    "    adf_result = adfuller(time_series)\n",
    "    print(f'ADF Test Results for {label}:')\n",
    "    print('ADF Statistic:', adf_result[0])\n",
    "    print('p-value:', adf_result[1])\n",
    "    print('Critical Values:')\n",
    "    for key, value in adf_result[4].items():\n",
    "        print(f'\\t{key}: {value:.3f}')\n",
    "    \n",
    "    if adf_result[1] < 0.05:\n",
    "        print(f'The time series {label} is stationary (reject H0)\\n')\n",
    "    else:\n",
    "        print(f'The time series {label} is non-stationary (fail to reject H0)\\n')\n",
    "\n",
    "def plot_time_series(time_series, label):\n",
    "    plt.figure(figsize=(10, 6))\n",
    "    plt.plot(time_series)\n",
    "    plt.title(f'Time Series Plot for {label}')\n",
    "    plt.xlabel('Time')\n",
    "    plt.ylabel('Value')\n",
    "    plt.show()\n",
    "\n",
    "dec15_file = 'DEC15.csv'  \n",
    "dec16_file = 'DEC16.csv'  \n",
    "column_name = 'column_name'\n",
    "\n",
    "# For DEC15\n",
    "dec15_series = load_data(dec15_file, column_name)\n",
    "print(\"DEC15 Data Loaded\")\n",
    "plot_time_series(dec15_series, 'DEC15')\n",
    "perform_adf_test(dec15_series, 'DEC15')\n",
    "\n",
    "# For DEC16\n",
    "dec16_series = load_data(dec16_file, column_name)\n",
    "print(\"DEC16 Data Loaded\")\n",
    "plot_time_series(dec16_series, 'DEC16')\n",
    "perform_adf_test(dec16_series, 'DEC16')\n"
   ]
  }
 ],
 "metadata": {
  "kernelspec": {
   "display_name": "Python 3 (ipykernel)",
   "language": "python",
   "name": "python3"
  },
  "language_info": {
   "codemirror_mode": {
    "name": "ipython",
    "version": 3
   },
   "file_extension": ".py",
   "mimetype": "text/x-python",
   "name": "python",
   "nbconvert_exporter": "python",
   "pygments_lexer": "ipython3",
   "version": "3.9.6"
  }
 },
 "nbformat": 4,
 "nbformat_minor": 5
}
